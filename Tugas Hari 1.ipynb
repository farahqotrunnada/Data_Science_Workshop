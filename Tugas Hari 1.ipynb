{
 "cells": [
  {
   "cell_type": "markdown",
   "metadata": {
    "colab_type": "text",
    "id": "37V7ZOpEwt-6"
   },
   "source": [
    "<h2>Soal 1: Hello World to Python</h2>\n",
    "    \n",
    "Print Say Hello World to Python"
   ]
  },
  {
   "cell_type": "code",
   "execution_count": 1,
   "metadata": {
    "colab": {},
    "colab_type": "code",
    "id": "a4yR8AILwt-8"
   },
   "outputs": [
    {
     "name": "stdout",
     "output_type": "stream",
     "text": [
      "Hello World Python\n"
     ]
    }
   ],
   "source": [
    "print('Hello World Python')"
   ]
  },
  {
   "cell_type": "markdown",
   "metadata": {
    "colab_type": "text",
    "id": "fftihhaUwt_B"
   },
   "source": [
    "Expected Output : \n",
    "\n",
    "Hello World Python"
   ]
  },
  {
   "cell_type": "markdown",
   "metadata": {
    "colab_type": "text",
    "id": "1aEipc1Swt_C"
   },
   "source": [
    "<h2>Soal 2: Aritmatika di Python </h2>\n",
    "    \n",
    "- Buat statement pertambahan antara 2 number di Python\n",
    "- Buat statement perkurangan antara 2 number di Python\n",
    "- Buat statement perkalian antara 2 number di Python\n",
    "- Buat statement pembagian antara 2 number di Python"
   ]
  },
  {
   "cell_type": "code",
   "execution_count": 6,
   "metadata": {
    "colab": {},
    "colab_type": "code",
    "id": "hOlCjZzrwt_D"
   },
   "outputs": [
    {
     "name": "stdout",
     "output_type": "stream",
     "text": [
      "Berikut contoh statement penambahan, 5+2 = 7\n",
      "Berikut contoh statement pengurangan, 9-8 = 1\n",
      "Berikut contoh statement perkalian, 7*6 = 42\n",
      "Berikut contoh statement pembagian, 9/2 = 4.5\n"
     ]
    }
   ],
   "source": [
    "print('Berikut contoh statement penambahan, 5+2 =',5+2)\n",
    "print('Berikut contoh statement pengurangan, 9-8 =',9-8)\n",
    "print('Berikut contoh statement perkalian, 7*6 =',7*6)\n",
    "print('Berikut contoh statement pembagian, 9/2 =',9/2) "
   ]
  },
  {
   "cell_type": "markdown",
   "metadata": {
    "colab_type": "text",
    "id": "DgUFNMtZwt_G"
   },
   "source": [
    "<h2>Quiz 3: Assign Variable dan Tipe Data Integer, Float </h2>\n",
    "\n",
    "- Buat suatu variabel a dan b, dimana a dan b adalah nilai bertipe data numeric\n",
    "- Berikan suatu nilai bertipe data integer, hasil pembagian dari a dengan b\n",
    "- Berikan suatu nilai bertipe data float, hasil pembagian dari a dengan b"
   ]
  },
  {
   "cell_type": "code",
   "execution_count": 10,
   "metadata": {
    "colab": {},
    "colab_type": "code",
    "id": "Qf8wzMg5wt_H"
   },
   "outputs": [
    {
     "name": "stdout",
     "output_type": "stream",
     "text": [
      "Pembagian a dengan b dengan hasil bertipe data integer yaitu 3\n",
      "Pembagian a dengan b dengan hasil bertipe data float yaitu 3.3333333333333335\n"
     ]
    }
   ],
   "source": [
    "a=10\n",
    "b=3\n",
    "print('Pembagian a dengan b dengan hasil bertipe data integer yaitu',a//b)\n",
    "print('Pembagian a dengan b dengan hasil bertipe data float yaitu',a/b)"
   ]
  },
  {
   "cell_type": "markdown",
   "metadata": {
    "colab_type": "text",
    "id": "XmjLgW7Zwt_L"
   },
   "source": [
    "<h2>Soal 4: String Operation </h2>\n",
    "\n",
    "- masukan nama depan kamu kedalam suatu variable firstname\n",
    "- masukan nama belakang kamu kedalam suatu variable lasname\n",
    "- tampilkan suatu kalimat 'Hello sanbercode, saya firstname lastname! saya siap belajar python data science.'"
   ]
  },
  {
   "cell_type": "code",
   "execution_count": 21,
   "metadata": {
    "colab": {},
    "colab_type": "code",
    "id": "lSRwZ7xXwt_M"
   },
   "outputs": [
    {
     "name": "stdout",
     "output_type": "stream",
     "text": [
      "Hello sanbercode, saya Farah Qotrunnada! saya siap belajar python data science.\n"
     ]
    }
   ],
   "source": [
    "firstname='Farah'\n",
    "lastname='Qotrunnada'\n",
    "\n",
    "print('Hello sanbercode, saya ' +firstname+' '+lastname+'! saya siap belajar python data science.')\n",
    "\n",
    "#bisa juga print('Hello sanbercode, saya',firstname,lastname,'! saya siap belajar python data science.')\n",
    "#tetapi dengan cara ini, saya tidak bisa membuat tanpa spasi antara lastname dan tanda seru"
   ]
  },
  {
   "cell_type": "markdown",
   "metadata": {
    "colab_type": "text",
    "id": "0ROQJqBXwt_Q"
   },
   "source": [
    "Expected Output :\n",
    "\n",
    "Hello sanbercode, saya fauzan taufik! saya siap belajar python data science."
   ]
  },
  {
   "cell_type": "markdown",
   "metadata": {
    "colab_type": "text",
    "id": "9DaWI8xdwt_Q"
   },
   "source": [
    "<h2>Soal 5: Tipe Data</h2>\n",
    "\n",
    "Lengkapi code di bawah ini untuk menghasilkan output yang sesuai"
   ]
  },
  {
   "cell_type": "code",
   "execution_count": 14,
   "metadata": {
    "colab": {},
    "colab_type": "code",
    "id": "wcDbgbjTwt_R"
   },
   "outputs": [
    {
     "name": "stdout",
     "output_type": "stream",
     "text": [
      "the number: 9.99999\n"
     ]
    }
   ],
   "source": [
    "p = 9.99999\n",
    "q = 'the number: '\n",
    "print(q + str(p))"
   ]
  },
  {
   "cell_type": "markdown",
   "metadata": {
    "colab_type": "text",
    "id": "wdVRjDoLwt_V"
   },
   "source": [
    "Expected Output :\n",
    "\n",
    "the number: 9.99999"
   ]
  }
 ],
 "metadata": {
  "colab": {
   "name": "Tugas Hari 1.ipynb",
   "provenance": []
  },
  "kernelspec": {
   "display_name": "Python 3",
   "language": "python",
   "name": "python3"
  },
  "language_info": {
   "codemirror_mode": {
    "name": "ipython",
    "version": 3
   },
   "file_extension": ".py",
   "mimetype": "text/x-python",
   "name": "python",
   "nbconvert_exporter": "python",
   "pygments_lexer": "ipython3",
   "version": "3.7.4"
  }
 },
 "nbformat": 4,
 "nbformat_minor": 1
}

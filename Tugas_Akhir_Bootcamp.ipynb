{
 "cells": [
  {
   "cell_type": "markdown",
   "metadata": {
    "colab_type": "text",
    "id": "view-in-github"
   },
   "source": [
    "<a href=\"https://colab.research.google.com/github/Nanangk/Python_and_Data_Science_Botcamp_by_SanberCode/blob/master/Tugas_Akhir_Bootcamp.ipynb\" target=\"_parent\"><img src=\"https://colab.research.google.com/assets/colab-badge.svg\" alt=\"Open In Colab\"/></a>"
   ]
  },
  {
   "cell_type": "markdown",
   "metadata": {
    "colab_type": "text",
    "id": "h757UmXwee99"
   },
   "source": [
    "Berikut adalah data tentang class Gaji seseorang. Data ini memilki beberapa column predictor dan 1 column output untuk 2 class label, Anda di minta untuk membuat model untuk memprediksi probabilitas gaji seseorang adalah di atas 5jt, dimana keterangan dari output adalah sebagai berikut\n",
    "\n",
    "0 : Gaji <= 5jt\n",
    "\n",
    "1 : Gaji > 5jt"
   ]
  },
  {
   "cell_type": "code",
   "execution_count": null,
   "metadata": {
    "colab": {
     "base_uri": "https://localhost:8080/",
     "height": 33
    },
    "colab_type": "code",
    "id": "NEraydfBTxuW",
    "outputId": "42b45e7a-62ce-46fa-dd47-a15f30b3169a"
   },
   "outputs": [
    {
     "name": "stderr",
     "output_type": "stream",
     "text": [
      "Using TensorFlow backend.\n"
     ]
    }
   ],
   "source": [
    "import pandas as pd\n",
    "import numpy as np\n",
    "import keras"
   ]
  },
  {
   "cell_type": "code",
   "execution_count": null,
   "metadata": {
    "colab": {
     "base_uri": "https://localhost:8080/",
     "height": 400
    },
    "colab_type": "code",
    "id": "9moQbWWoUdak",
    "outputId": "434b2651-5826-48d5-b1a3-8bf5f75c4cca"
   },
   "outputs": [
    {
     "data": {
      "text/html": [
       "<div>\n",
       "<style scoped>\n",
       "    .dataframe tbody tr th:only-of-type {\n",
       "        vertical-align: middle;\n",
       "    }\n",
       "\n",
       "    .dataframe tbody tr th {\n",
       "        vertical-align: top;\n",
       "    }\n",
       "\n",
       "    .dataframe thead th {\n",
       "        text-align: right;\n",
       "    }\n",
       "</style>\n",
       "<table border=\"1\" class=\"dataframe\">\n",
       "  <thead>\n",
       "    <tr style=\"text-align: right;\">\n",
       "      <th></th>\n",
       "      <th>id</th>\n",
       "      <th>Umur</th>\n",
       "      <th>Kelas Pekerja</th>\n",
       "      <th>Berat Akhir</th>\n",
       "      <th>Pendidikan</th>\n",
       "      <th>Jmlh Tahun Pendidikan</th>\n",
       "      <th>Status Perkawinan</th>\n",
       "      <th>Pekerjaan</th>\n",
       "      <th>Jenis Kelamin</th>\n",
       "      <th>Keuntungan Kapital</th>\n",
       "      <th>Kerugian Capital</th>\n",
       "      <th>Jam per Minggu</th>\n",
       "      <th>Gaji</th>\n",
       "    </tr>\n",
       "  </thead>\n",
       "  <tbody>\n",
       "    <tr>\n",
       "      <th>0</th>\n",
       "      <td>27247</td>\n",
       "      <td>59</td>\n",
       "      <td>Pemerintah Negara</td>\n",
       "      <td>139616</td>\n",
       "      <td>Master</td>\n",
       "      <td>14</td>\n",
       "      <td>Menikah</td>\n",
       "      <td>Ekesekutif Managerial</td>\n",
       "      <td>Laki2</td>\n",
       "      <td>0.0</td>\n",
       "      <td>0.0</td>\n",
       "      <td>50.0</td>\n",
       "      <td>1</td>\n",
       "    </tr>\n",
       "    <tr>\n",
       "      <th>1</th>\n",
       "      <td>1640</td>\n",
       "      <td>52</td>\n",
       "      <td>Wiraswasta</td>\n",
       "      <td>158993</td>\n",
       "      <td>SMA</td>\n",
       "      <td>9</td>\n",
       "      <td>Cerai</td>\n",
       "      <td>Servis Lainnya</td>\n",
       "      <td>Perempuan</td>\n",
       "      <td>0.0</td>\n",
       "      <td>0.0</td>\n",
       "      <td>38.0</td>\n",
       "      <td>0</td>\n",
       "    </tr>\n",
       "    <tr>\n",
       "      <th>2</th>\n",
       "      <td>45206</td>\n",
       "      <td>52</td>\n",
       "      <td>Pekerja Bebas Bukan Perusahan</td>\n",
       "      <td>284648</td>\n",
       "      <td>SMA</td>\n",
       "      <td>9</td>\n",
       "      <td>Cerai</td>\n",
       "      <td>Ekesekutif Managerial</td>\n",
       "      <td>Perempuan</td>\n",
       "      <td>0.0</td>\n",
       "      <td>0.0</td>\n",
       "      <td>99.0</td>\n",
       "      <td>1</td>\n",
       "    </tr>\n",
       "    <tr>\n",
       "      <th>3</th>\n",
       "      <td>16154</td>\n",
       "      <td>45</td>\n",
       "      <td>Wiraswasta</td>\n",
       "      <td>132847</td>\n",
       "      <td>SMA</td>\n",
       "      <td>9</td>\n",
       "      <td>Belum Pernah Menikah</td>\n",
       "      <td>Pembersih</td>\n",
       "      <td>Perempuan</td>\n",
       "      <td>0.0</td>\n",
       "      <td>0.0</td>\n",
       "      <td>40.0</td>\n",
       "      <td>0</td>\n",
       "    </tr>\n",
       "    <tr>\n",
       "      <th>4</th>\n",
       "      <td>43023</td>\n",
       "      <td>28</td>\n",
       "      <td>Wiraswasta</td>\n",
       "      <td>103432</td>\n",
       "      <td>SMA</td>\n",
       "      <td>9</td>\n",
       "      <td>Belum Pernah Menikah</td>\n",
       "      <td>Supir</td>\n",
       "      <td>Laki2</td>\n",
       "      <td>0.0</td>\n",
       "      <td>0.0</td>\n",
       "      <td>45.0</td>\n",
       "      <td>1</td>\n",
       "    </tr>\n",
       "  </tbody>\n",
       "</table>\n",
       "</div>"
      ],
      "text/plain": [
       "      id  Umur  ... Jam per Minggu  Gaji\n",
       "0  27247    59  ...           50.0     1\n",
       "1   1640    52  ...           38.0     0\n",
       "2  45206    52  ...           99.0     1\n",
       "3  16154    45  ...           40.0     0\n",
       "4  43023    28  ...           45.0     1\n",
       "\n",
       "[5 rows x 13 columns]"
      ]
     },
     "execution_count": 32,
     "metadata": {
      "tags": []
     },
     "output_type": "execute_result"
    }
   ],
   "source": [
    "df = pd.read_csv('Pendapatan.csv')\n",
    "df.head(5)"
   ]
  },
  {
   "cell_type": "code",
   "execution_count": null,
   "metadata": {
    "colab": {
     "base_uri": "https://localhost:8080/",
     "height": 33
    },
    "colab_type": "code",
    "id": "DtDTd-e750d1",
    "outputId": "a49f0a0a-193c-48dc-df41-7678a06ad072"
   },
   "outputs": [
    {
     "data": {
      "text/plain": [
       "(38393, 13)"
      ]
     },
     "execution_count": 33,
     "metadata": {
      "tags": []
     },
     "output_type": "execute_result"
    }
   ],
   "source": [
    "df.shape"
   ]
  },
  {
   "cell_type": "code",
   "execution_count": null,
   "metadata": {
    "colab": {
     "base_uri": "https://localhost:8080/",
     "height": 67
    },
    "colab_type": "code",
    "id": "pqjwIfewZ1gD",
    "outputId": "d0ce2c6e-d37d-4bcd-eedf-dbda16bea982"
   },
   "outputs": [
    {
     "data": {
      "text/plain": [
       "0    29198\n",
       "1     9195\n",
       "Name: Gaji, dtype: int64"
      ]
     },
     "execution_count": 34,
     "metadata": {
      "tags": []
     },
     "output_type": "execute_result"
    }
   ],
   "source": [
    "df['Gaji'].value_counts()"
   ]
  },
  {
   "cell_type": "code",
   "execution_count": null,
   "metadata": {
    "colab": {},
    "colab_type": "code",
    "id": "HuuoGTYlgnb_"
   },
   "outputs": [],
   "source": [
    "df['Pekerjaan'] = df['Pekerjaan'].replace(\n",
    "    ['Spesialis','Ekesekutif Managerial','Perbaikan Kerajinan','Pemuka Agama','Sales','Servis Lainnya','Mesin Inspeksi','?','Supir','Pembersih','Petani','Tech-support','Penjaga','Asisten Rumah Tangga','Tentara'],\n",
    "    [1,2,3,4,5,6,7,8,9,10,11,12,13,14,15]\n",
    ")\n"
   ]
  },
  {
   "cell_type": "code",
   "execution_count": null,
   "metadata": {
    "colab": {
     "base_uri": "https://localhost:8080/",
     "height": 284
    },
    "colab_type": "code",
    "id": "stRz0tI2hdkI",
    "outputId": "730987f8-a10e-490a-d3ca-4c659ef6ca5d"
   },
   "outputs": [
    {
     "data": {
      "text/plain": [
       "1     4911\n",
       "2     4790\n",
       "3     4788\n",
       "4     4408\n",
       "5     4323\n",
       "6     3859\n",
       "7     2380\n",
       "8     2210\n",
       "9     1859\n",
       "10    1650\n",
       "11    1150\n",
       "12    1122\n",
       "13     734\n",
       "14     198\n",
       "15      11\n",
       "Name: Pekerjaan, dtype: int64"
      ]
     },
     "execution_count": 36,
     "metadata": {
      "tags": []
     },
     "output_type": "execute_result"
    }
   ],
   "source": [
    "df['Pekerjaan'].value_counts()"
   ]
  },
  {
   "cell_type": "code",
   "execution_count": null,
   "metadata": {
    "colab": {},
    "colab_type": "code",
    "id": "zAEB-zJ-c-Td"
   },
   "outputs": [],
   "source": [
    "df['Pendidikan'] = df['Pendidikan'].replace(\n",
    "    ['SMA','Pendidikan Tinggi', 'Sarjana','Master','D4','11th','D3','10th','7th-8th','Sekolah Professional','9th','12th','Doktor','5th-6th','1st-4th','SD'],\n",
    "    [1,2,3,4,5,6,7,8,9,10,11,12,13,14,15,16]\n",
    ")"
   ]
  },
  {
   "cell_type": "code",
   "execution_count": null,
   "metadata": {
    "colab": {
     "base_uri": "https://localhost:8080/",
     "height": 301
    },
    "colab_type": "code",
    "id": "EMADDfh6eQcc",
    "outputId": "803d115c-f328-4982-c08a-3abad90a7ebe"
   },
   "outputs": [
    {
     "data": {
      "text/plain": [
       "1     12430\n",
       "2      8529\n",
       "3      6320\n",
       "4      2093\n",
       "5      1603\n",
       "6      1407\n",
       "7      1260\n",
       "8      1096\n",
       "9       722\n",
       "10      666\n",
       "11      604\n",
       "12      509\n",
       "13      477\n",
       "14      418\n",
       "15      195\n",
       "16       64\n",
       "Name: Pendidikan, dtype: int64"
      ]
     },
     "execution_count": 38,
     "metadata": {
      "tags": []
     },
     "output_type": "execute_result"
    }
   ],
   "source": [
    "df['Pendidikan'].value_counts()"
   ]
  },
  {
   "cell_type": "code",
   "execution_count": null,
   "metadata": {
    "colab": {},
    "colab_type": "code",
    "id": "AQ5-8zuAaVVe"
   },
   "outputs": [],
   "source": [
    "df['Kelas Pekerja'] = df['Kelas Pekerja'].replace(['Wiraswasta','Pekerja Bebas Bukan Perusahan','Pemerintah Lokal','?','Pemerintah Negara','Pekerja Bebas Perusahaan','Pemerintah Provinsi',\n",
    "                             'Tanpa di Bayar','Tidak Pernah Bekerja'],[1,2,3,4,5,6,7,8,9])"
   ]
  },
  {
   "cell_type": "code",
   "execution_count": null,
   "metadata": {
    "colab": {
     "base_uri": "https://localhost:8080/",
     "height": 134
    },
    "colab_type": "code",
    "id": "-J9upy3FcAe2",
    "outputId": "36b666d7-8c82-4c52-d988-a5148bf5a905"
   },
   "outputs": [
    {
     "data": {
      "text/plain": [
       "Menikah                 17640\n",
       "Belum Pernah Menikah    12650\n",
       "Cerai                    5200\n",
       "Berpisah                 1203\n",
       "Janda                    1178\n",
       "Menikah LDR               522\n",
       "Name: Status Perkawinan, dtype: int64"
      ]
     },
     "execution_count": 40,
     "metadata": {
      "tags": []
     },
     "output_type": "execute_result"
    }
   ],
   "source": [
    "df['Status Perkawinan'].value_counts()"
   ]
  },
  {
   "cell_type": "code",
   "execution_count": null,
   "metadata": {
    "colab": {},
    "colab_type": "code",
    "id": "CLamIK-a8B2T"
   },
   "outputs": [],
   "source": [
    "df['Status Perkawinan'] = df['Status Perkawinan'].replace(\n",
    "    ['Menikah','Belum Pernah Menikah','Cerai','Berpisah','Janda','Menikah LDR'],\n",
    "    [1,2,3,4,5,6])"
   ]
  },
  {
   "cell_type": "code",
   "execution_count": null,
   "metadata": {
    "colab": {},
    "colab_type": "code",
    "id": "OLYZF2Y-7hdX"
   },
   "outputs": [],
   "source": [
    "df['Jenis Kelamin']=df['Jenis Kelamin'].replace(['Laki2','Perempuan'],[1,0])"
   ]
  },
  {
   "cell_type": "code",
   "execution_count": null,
   "metadata": {
    "colab": {
     "base_uri": "https://localhost:8080/",
     "height": 170
    },
    "colab_type": "code",
    "id": "mKUYDH8xbchD",
    "outputId": "80ddf593-f6fd-4218-8acc-846342256823"
   },
   "outputs": [
    {
     "data": {
      "text/html": [
       "<div>\n",
       "<style scoped>\n",
       "    .dataframe tbody tr th:only-of-type {\n",
       "        vertical-align: middle;\n",
       "    }\n",
       "\n",
       "    .dataframe tbody tr th {\n",
       "        vertical-align: top;\n",
       "    }\n",
       "\n",
       "    .dataframe thead th {\n",
       "        text-align: right;\n",
       "    }\n",
       "</style>\n",
       "<table border=\"1\" class=\"dataframe\">\n",
       "  <thead>\n",
       "    <tr style=\"text-align: right;\">\n",
       "      <th></th>\n",
       "      <th>id</th>\n",
       "      <th>Umur</th>\n",
       "      <th>Kelas Pekerja</th>\n",
       "      <th>Berat Akhir</th>\n",
       "      <th>Pendidikan</th>\n",
       "      <th>Jmlh Tahun Pendidikan</th>\n",
       "      <th>Status Perkawinan</th>\n",
       "      <th>Pekerjaan</th>\n",
       "      <th>Jenis Kelamin</th>\n",
       "      <th>Keuntungan Kapital</th>\n",
       "      <th>Kerugian Capital</th>\n",
       "      <th>Jam per Minggu</th>\n",
       "      <th>Gaji</th>\n",
       "    </tr>\n",
       "  </thead>\n",
       "  <tbody>\n",
       "    <tr>\n",
       "      <th>0</th>\n",
       "      <td>27247</td>\n",
       "      <td>59</td>\n",
       "      <td>5</td>\n",
       "      <td>139616</td>\n",
       "      <td>4</td>\n",
       "      <td>14</td>\n",
       "      <td>1</td>\n",
       "      <td>2</td>\n",
       "      <td>1</td>\n",
       "      <td>0.0</td>\n",
       "      <td>0.0</td>\n",
       "      <td>50.0</td>\n",
       "      <td>1</td>\n",
       "    </tr>\n",
       "    <tr>\n",
       "      <th>1</th>\n",
       "      <td>1640</td>\n",
       "      <td>52</td>\n",
       "      <td>1</td>\n",
       "      <td>158993</td>\n",
       "      <td>1</td>\n",
       "      <td>9</td>\n",
       "      <td>3</td>\n",
       "      <td>6</td>\n",
       "      <td>0</td>\n",
       "      <td>0.0</td>\n",
       "      <td>0.0</td>\n",
       "      <td>38.0</td>\n",
       "      <td>0</td>\n",
       "    </tr>\n",
       "    <tr>\n",
       "      <th>2</th>\n",
       "      <td>45206</td>\n",
       "      <td>52</td>\n",
       "      <td>2</td>\n",
       "      <td>284648</td>\n",
       "      <td>1</td>\n",
       "      <td>9</td>\n",
       "      <td>3</td>\n",
       "      <td>2</td>\n",
       "      <td>0</td>\n",
       "      <td>0.0</td>\n",
       "      <td>0.0</td>\n",
       "      <td>99.0</td>\n",
       "      <td>1</td>\n",
       "    </tr>\n",
       "  </tbody>\n",
       "</table>\n",
       "</div>"
      ],
      "text/plain": [
       "      id  Umur  Kelas Pekerja  ...  Kerugian Capital  Jam per Minggu  Gaji\n",
       "0  27247    59              5  ...               0.0            50.0     1\n",
       "1   1640    52              1  ...               0.0            38.0     0\n",
       "2  45206    52              2  ...               0.0            99.0     1\n",
       "\n",
       "[3 rows x 13 columns]"
      ]
     },
     "execution_count": 43,
     "metadata": {
      "tags": []
     },
     "output_type": "execute_result"
    }
   ],
   "source": [
    "df.head(3)"
   ]
  },
  {
   "cell_type": "code",
   "execution_count": null,
   "metadata": {
    "colab": {},
    "colab_type": "code",
    "id": "BO4duwcCUjc7"
   },
   "outputs": [],
   "source": [
    "from sklearn.model_selection import train_test_split\n",
    "x = df[['Umur','Kelas Pekerja','Pendidikan','Pekerjaan','Jmlh Tahun Pendidikan','Status Perkawinan','Jenis Kelamin',\n",
    "        'Keuntungan Kapital', 'Kerugian Capital','Jam per Minggu']]\n",
    "y = df['Gaji']\n",
    "x =np.array(x)\n",
    "X_train, X_test, y_train, y_test = train_test_split(x,y, test_size = 0.3, random_state=21, stratify = y)"
   ]
  },
  {
   "cell_type": "code",
   "execution_count": null,
   "metadata": {
    "colab": {},
    "colab_type": "code",
    "id": "AdTN0cazloc0"
   },
   "outputs": [],
   "source": [
    "y_train = keras.utils.to_categorical(y_train, 2)\n",
    "y_test = keras.utils.to_categorical(y_test,2)"
   ]
  },
  {
   "cell_type": "code",
   "execution_count": null,
   "metadata": {
    "colab": {
     "base_uri": "https://localhost:8080/",
     "height": 234
    },
    "colab_type": "code",
    "id": "zUz1HAqtmAjd",
    "outputId": "24837888-809a-4de2-99ff-c947ab233759"
   },
   "outputs": [
    {
     "data": {
      "text/plain": [
       "array([[4.20000e+01, 5.00000e+00, 3.00000e+00, ..., 2.10336e+08,\n",
       "        0.00000e+00, 5.00000e+01],\n",
       "       [6.10000e+01, 4.00000e+00, 1.00000e+00, ..., 4.34420e+07,\n",
       "        0.00000e+00, 4.00000e+01],\n",
       "       [3.40000e+01, 1.00000e+00, 1.00000e+00, ..., 0.00000e+00,\n",
       "        0.00000e+00, 6.00000e+01],\n",
       "       ...,\n",
       "       [3.30000e+01, 3.00000e+00, 3.00000e+00, ..., 0.00000e+00,\n",
       "        0.00000e+00, 4.00000e+01],\n",
       "       [2.90000e+01, 1.00000e+00, 2.00000e+00, ..., 0.00000e+00,\n",
       "        0.00000e+00, 3.60000e+01],\n",
       "       [6.40000e+01, 5.00000e+00, 3.00000e+00, ..., 0.00000e+00,\n",
       "        0.00000e+00, 4.50000e+01]])"
      ]
     },
     "execution_count": 46,
     "metadata": {
      "tags": []
     },
     "output_type": "execute_result"
    }
   ],
   "source": [
    "X_test"
   ]
  },
  {
   "cell_type": "code",
   "execution_count": null,
   "metadata": {
    "colab": {},
    "colab_type": "code",
    "id": "nszp45WuVlcN"
   },
   "outputs": [],
   "source": [
    "from keras.models import Sequential\n",
    "from keras.layers import Conv2D, MaxPooling2D\n",
    "from keras.layers import Dense, Dropout, Activation, Flatten\n",
    "import matplotlib.pyplot as plt\n",
    "import tensorflow as tf"
   ]
  },
  {
   "cell_type": "code",
   "execution_count": null,
   "metadata": {
    "colab": {
     "base_uri": "https://localhost:8080/",
     "height": 70
    },
    "colab_type": "code",
    "id": "67-ISsrTVZBi",
    "outputId": "1a790628-7c2a-4286-d5b2-5a20cffc9866"
   },
   "outputs": [
    {
     "name": "stderr",
     "output_type": "stream",
     "text": [
      "/usr/local/lib/python3.6/dist-packages/keras/activations.py:235: UserWarning: Do not pass a layer instance (such as Activation) as the activation argument of another layer. Instead, advanced activation layers should be used just like any other layer in a model.\n",
      "  identifier=identifier.__class__.__name__))\n"
     ]
    }
   ],
   "source": [
    "model = Sequential()\n",
    "model.add(Dense(256, activation='relu'))\n",
    "model.add(Dropout(0.25))\n",
    "model.add(Dense(256, activation='relu'))\n",
    "model.add(Dropout(0.25))\n",
    "model.add(Dense(128, activation='relu'))\n",
    "model.add(Dropout(0.25))\n",
    "model.add(Dense(128, activation='relu'))\n",
    "model.add(Dropout(0.25))\n",
    "model.add(Dense(64, activation='relu'))\n",
    "model.add(Dropout(0.25))\n",
    "model.add(Dense(64, activation='relu'))\n",
    "model.add(Dropout(0.25))\n",
    "model.add(Dense(2, activation=Activation(tf.nn.softmax)))"
   ]
  },
  {
   "cell_type": "code",
   "execution_count": null,
   "metadata": {
    "colab": {},
    "colab_type": "code",
    "id": "eok7XwJrWDk3"
   },
   "outputs": [],
   "source": [
    "model.compile(loss=keras.losses.categorical_crossentropy,\n",
    "              optimizer=keras.optimizers.Adadelta(), metrics=['accuracy'])"
   ]
  },
  {
   "cell_type": "code",
   "execution_count": null,
   "metadata": {
    "colab": {
     "base_uri": "https://localhost:8080/",
     "height": 1000
    },
    "colab_type": "code",
    "id": "Mi2Qnbg1lDIQ",
    "outputId": "a0e49268-4293-4f31-836d-8fe395903fc2"
   },
   "outputs": [
    {
     "name": "stdout",
     "output_type": "stream",
     "text": [
      "Train on 26875 samples, validate on 11518 samples\n",
      "Epoch 1/50\n",
      "26875/26875 [==============================] - 7s 257us/step - loss: 48550.2548 - accuracy: 0.7637 - val_loss: 2449.7429 - val_accuracy: 0.7814\n",
      "Epoch 2/50\n",
      "26875/26875 [==============================] - 5s 190us/step - loss: 5888.7685 - accuracy: 0.7756 - val_loss: 428.3219 - val_accuracy: 0.7806\n",
      "Epoch 3/50\n",
      "26875/26875 [==============================] - 5s 193us/step - loss: 1880.0337 - accuracy: 0.7788 - val_loss: 0.4929 - val_accuracy: 0.7605\n",
      "Epoch 4/50\n",
      "26875/26875 [==============================] - 5s 191us/step - loss: 328.5964 - accuracy: 0.7768 - val_loss: 0.4171 - val_accuracy: 0.7922\n",
      "Epoch 5/50\n",
      "26875/26875 [==============================] - 5s 188us/step - loss: 84.8352 - accuracy: 0.7854 - val_loss: 0.4014 - val_accuracy: 0.7935\n",
      "Epoch 6/50\n",
      "26875/26875 [==============================] - 5s 188us/step - loss: 42.4897 - accuracy: 0.7869 - val_loss: 0.3963 - val_accuracy: 0.7902\n",
      "Epoch 7/50\n",
      "26875/26875 [==============================] - 5s 189us/step - loss: 51.6492 - accuracy: 0.8042 - val_loss: 0.3912 - val_accuracy: 0.8129\n",
      "Epoch 8/50\n",
      "26875/26875 [==============================] - 5s 188us/step - loss: 41.5030 - accuracy: 0.8081 - val_loss: 0.4009 - val_accuracy: 0.7990\n",
      "Epoch 9/50\n",
      "26875/26875 [==============================] - 5s 189us/step - loss: 27.0689 - accuracy: 0.8080 - val_loss: 0.3874 - val_accuracy: 0.8126\n",
      "Epoch 10/50\n",
      "26875/26875 [==============================] - 5s 189us/step - loss: 33.0462 - accuracy: 0.8087 - val_loss: 0.3861 - val_accuracy: 0.8117\n",
      "Epoch 11/50\n",
      "26875/26875 [==============================] - 5s 187us/step - loss: 10.2853 - accuracy: 0.8088 - val_loss: 0.3913 - val_accuracy: 0.8100\n",
      "Epoch 12/50\n",
      "26875/26875 [==============================] - 5s 187us/step - loss: 15.7826 - accuracy: 0.8091 - val_loss: 0.3893 - val_accuracy: 0.8115\n",
      "Epoch 13/50\n",
      "26875/26875 [==============================] - 5s 184us/step - loss: 21.0257 - accuracy: 0.8100 - val_loss: 0.3865 - val_accuracy: 0.8076\n",
      "Epoch 14/50\n",
      "26875/26875 [==============================] - 5s 184us/step - loss: 16.3298 - accuracy: 0.8105 - val_loss: 0.3838 - val_accuracy: 0.8139\n",
      "Epoch 15/50\n",
      "26875/26875 [==============================] - 5s 184us/step - loss: 8.2931 - accuracy: 0.8090 - val_loss: 0.3974 - val_accuracy: 0.8100\n",
      "Epoch 16/50\n",
      "26875/26875 [==============================] - 5s 189us/step - loss: 3.8999 - accuracy: 0.8081 - val_loss: 0.3841 - val_accuracy: 0.8154\n",
      "Epoch 17/50\n",
      "26875/26875 [==============================] - 5s 186us/step - loss: 4.0397 - accuracy: 0.8095 - val_loss: 0.3844 - val_accuracy: 0.8146\n",
      "Epoch 18/50\n",
      "26875/26875 [==============================] - 5s 189us/step - loss: 6.2541 - accuracy: 0.8097 - val_loss: 0.3827 - val_accuracy: 0.8140\n",
      "Epoch 19/50\n",
      "26875/26875 [==============================] - 5s 185us/step - loss: 7.3147 - accuracy: 0.8072 - val_loss: 0.3824 - val_accuracy: 0.8132\n",
      "Epoch 20/50\n",
      "26875/26875 [==============================] - 5s 185us/step - loss: 4.7651 - accuracy: 0.8088 - val_loss: 0.3796 - val_accuracy: 0.8139\n",
      "Epoch 21/50\n",
      "26875/26875 [==============================] - 5s 183us/step - loss: 2.6443 - accuracy: 0.8081 - val_loss: 0.4049 - val_accuracy: 0.8132\n",
      "Epoch 22/50\n",
      "26875/26875 [==============================] - 5s 185us/step - loss: 1.9060 - accuracy: 0.8099 - val_loss: 0.3827 - val_accuracy: 0.8131\n",
      "Epoch 23/50\n",
      "26875/26875 [==============================] - 5s 186us/step - loss: 4.2248 - accuracy: 0.8096 - val_loss: 0.3842 - val_accuracy: 0.8143\n",
      "Epoch 24/50\n",
      "26875/26875 [==============================] - 5s 185us/step - loss: 10.5057 - accuracy: 0.8098 - val_loss: 0.3902 - val_accuracy: 0.8137\n",
      "Epoch 25/50\n",
      "26875/26875 [==============================] - 5s 193us/step - loss: 2.9087 - accuracy: 0.8119 - val_loss: 0.3780 - val_accuracy: 0.8156\n",
      "Epoch 26/50\n",
      "26875/26875 [==============================] - 5s 193us/step - loss: 1.3073 - accuracy: 0.8113 - val_loss: 0.3820 - val_accuracy: 0.8146\n",
      "Epoch 27/50\n",
      "26875/26875 [==============================] - 5s 187us/step - loss: 2.9054 - accuracy: 0.8108 - val_loss: 0.3796 - val_accuracy: 0.8132\n",
      "Epoch 28/50\n",
      "26875/26875 [==============================] - 5s 185us/step - loss: 2.5687 - accuracy: 0.8108 - val_loss: 0.3805 - val_accuracy: 0.8165\n",
      "Epoch 29/50\n",
      "26875/26875 [==============================] - 5s 184us/step - loss: 4.3639 - accuracy: 0.8093 - val_loss: 0.3804 - val_accuracy: 0.8155\n",
      "Epoch 30/50\n",
      "26875/26875 [==============================] - 5s 186us/step - loss: 5.7424 - accuracy: 0.8107 - val_loss: 0.3967 - val_accuracy: 0.8114\n",
      "Epoch 31/50\n",
      "26875/26875 [==============================] - 5s 183us/step - loss: 6.3080 - accuracy: 0.8103 - val_loss: 0.3839 - val_accuracy: 0.8116\n",
      "Epoch 32/50\n",
      "26875/26875 [==============================] - 5s 185us/step - loss: 5.9490 - accuracy: 0.8115 - val_loss: 0.3818 - val_accuracy: 0.8121\n",
      "Epoch 33/50\n",
      "26875/26875 [==============================] - 5s 182us/step - loss: 3.3606 - accuracy: 0.8100 - val_loss: 0.3830 - val_accuracy: 0.8106\n",
      "Epoch 34/50\n",
      "26875/26875 [==============================] - 5s 186us/step - loss: 1.6417 - accuracy: 0.8104 - val_loss: 0.3809 - val_accuracy: 0.8145\n",
      "Epoch 35/50\n",
      "26875/26875 [==============================] - 5s 188us/step - loss: 2.8336 - accuracy: 0.8097 - val_loss: 0.3771 - val_accuracy: 0.8162\n",
      "Epoch 36/50\n",
      "26875/26875 [==============================] - 5s 185us/step - loss: 4.1955 - accuracy: 0.8121 - val_loss: 0.3774 - val_accuracy: 0.8165\n",
      "Epoch 37/50\n",
      "26875/26875 [==============================] - 5s 185us/step - loss: 3.2880 - accuracy: 0.8109 - val_loss: 0.3845 - val_accuracy: 0.8147\n",
      "Epoch 38/50\n",
      "26875/26875 [==============================] - 5s 184us/step - loss: 3.6314 - accuracy: 0.8119 - val_loss: 0.3826 - val_accuracy: 0.8060\n",
      "Epoch 39/50\n",
      "26875/26875 [==============================] - 5s 183us/step - loss: 1.3374 - accuracy: 0.8112 - val_loss: 0.3817 - val_accuracy: 0.8111\n",
      "Epoch 40/50\n",
      "26875/26875 [==============================] - 5s 187us/step - loss: 5.0382 - accuracy: 0.8100 - val_loss: 0.3898 - val_accuracy: 0.8065\n",
      "Epoch 41/50\n",
      "26875/26875 [==============================] - 5s 186us/step - loss: 4.8769 - accuracy: 0.8103 - val_loss: 0.3778 - val_accuracy: 0.8137\n",
      "Epoch 42/50\n",
      "26875/26875 [==============================] - 5s 187us/step - loss: 3.6945 - accuracy: 0.8105 - val_loss: 0.3888 - val_accuracy: 0.8073\n",
      "Epoch 43/50\n",
      "26875/26875 [==============================] - 5s 185us/step - loss: 4.0011 - accuracy: 0.8100 - val_loss: 0.3778 - val_accuracy: 0.8154\n",
      "Epoch 44/50\n",
      "26875/26875 [==============================] - 5s 185us/step - loss: 2.4670 - accuracy: 0.8099 - val_loss: 0.3840 - val_accuracy: 0.8138\n",
      "Epoch 45/50\n",
      "26875/26875 [==============================] - 5s 183us/step - loss: 2.3171 - accuracy: 0.8102 - val_loss: 0.3817 - val_accuracy: 0.8159\n",
      "Epoch 46/50\n",
      "26875/26875 [==============================] - 5s 183us/step - loss: 2.2632 - accuracy: 0.8105 - val_loss: 0.3797 - val_accuracy: 0.8153\n",
      "Epoch 47/50\n",
      "26875/26875 [==============================] - 5s 183us/step - loss: 2.4538 - accuracy: 0.8114 - val_loss: 0.3823 - val_accuracy: 0.8128\n",
      "Epoch 48/50\n",
      "26875/26875 [==============================] - 5s 184us/step - loss: 9.4008 - accuracy: 0.8105 - val_loss: 0.3765 - val_accuracy: 0.8153\n",
      "Epoch 49/50\n",
      "26875/26875 [==============================] - 5s 183us/step - loss: 1.6637 - accuracy: 0.8137 - val_loss: 0.3802 - val_accuracy: 0.8128\n",
      "Epoch 50/50\n",
      "26875/26875 [==============================] - 5s 180us/step - loss: 0.6408 - accuracy: 0.8129 - val_loss: 0.3843 - val_accuracy: 0.8061\n"
     ]
    },
    {
     "data": {
      "text/plain": [
       "<keras.callbacks.callbacks.History at 0x7f3f28fceef0>"
      ]
     },
     "execution_count": 50,
     "metadata": {
      "tags": []
     },
     "output_type": "execute_result"
    }
   ],
   "source": [
    "model.fit(X_train, y_train, \n",
    "          batch_size=28, \n",
    "          epochs=50, \n",
    "          verbose=1,\n",
    "          validation_data=(X_test, \n",
    "                           y_test))"
   ]
  },
  {
   "cell_type": "code",
   "execution_count": null,
   "metadata": {
    "colab": {
     "base_uri": "https://localhost:8080/",
     "height": 330
    },
    "colab_type": "code",
    "id": "hnSmRm46XVsn",
    "outputId": "538a77c5-4ff4-4a83-9866-230571cce49f"
   },
   "outputs": [
    {
     "data": {
      "text/html": [
       "<div>\n",
       "<style scoped>\n",
       "    .dataframe tbody tr th:only-of-type {\n",
       "        vertical-align: middle;\n",
       "    }\n",
       "\n",
       "    .dataframe tbody tr th {\n",
       "        vertical-align: top;\n",
       "    }\n",
       "\n",
       "    .dataframe thead th {\n",
       "        text-align: right;\n",
       "    }\n",
       "</style>\n",
       "<table border=\"1\" class=\"dataframe\">\n",
       "  <thead>\n",
       "    <tr style=\"text-align: right;\">\n",
       "      <th></th>\n",
       "      <th>id</th>\n",
       "      <th>Umur</th>\n",
       "      <th>Kelas Pekerja</th>\n",
       "      <th>Berat Akhir</th>\n",
       "      <th>Pendidikan</th>\n",
       "      <th>Jmlh Tahun Pendidikan</th>\n",
       "      <th>Status Perkawinan</th>\n",
       "      <th>Pekerjaan</th>\n",
       "      <th>Jenis Kelamin</th>\n",
       "      <th>Keuntungan Kapital</th>\n",
       "      <th>Kerugian Capital</th>\n",
       "      <th>Jam per Minggu</th>\n",
       "    </tr>\n",
       "  </thead>\n",
       "  <tbody>\n",
       "    <tr>\n",
       "      <th>0</th>\n",
       "      <td>47933</td>\n",
       "      <td>30</td>\n",
       "      <td>Pemerintah Lokal</td>\n",
       "      <td>99761</td>\n",
       "      <td>D4</td>\n",
       "      <td>11</td>\n",
       "      <td>Cerai</td>\n",
       "      <td>Pemuka Agama</td>\n",
       "      <td>Perempuan</td>\n",
       "      <td>0.0</td>\n",
       "      <td>0.0</td>\n",
       "      <td>40.0</td>\n",
       "    </tr>\n",
       "    <tr>\n",
       "      <th>1</th>\n",
       "      <td>44213</td>\n",
       "      <td>28</td>\n",
       "      <td>Wiraswasta</td>\n",
       "      <td>202206</td>\n",
       "      <td>SMA</td>\n",
       "      <td>9</td>\n",
       "      <td>Menikah</td>\n",
       "      <td>Mesin Inspeksi</td>\n",
       "      <td>Laki2</td>\n",
       "      <td>0.0</td>\n",
       "      <td>0.0</td>\n",
       "      <td>50.0</td>\n",
       "    </tr>\n",
       "    <tr>\n",
       "      <th>2</th>\n",
       "      <td>20823</td>\n",
       "      <td>34</td>\n",
       "      <td>Pemerintah Provinsi</td>\n",
       "      <td>199934</td>\n",
       "      <td>Pendidikan Tinggi</td>\n",
       "      <td>10</td>\n",
       "      <td>Menikah</td>\n",
       "      <td>Pemuka Agama</td>\n",
       "      <td>Laki2</td>\n",
       "      <td>0.0</td>\n",
       "      <td>0.0</td>\n",
       "      <td>40.0</td>\n",
       "    </tr>\n",
       "    <tr>\n",
       "      <th>3</th>\n",
       "      <td>40565</td>\n",
       "      <td>51</td>\n",
       "      <td>Wiraswasta</td>\n",
       "      <td>373448</td>\n",
       "      <td>Pendidikan Tinggi</td>\n",
       "      <td>10</td>\n",
       "      <td>Menikah</td>\n",
       "      <td>Ekesekutif Managerial</td>\n",
       "      <td>Laki2</td>\n",
       "      <td>0.0</td>\n",
       "      <td>28028000.0</td>\n",
       "      <td>40.0</td>\n",
       "    </tr>\n",
       "    <tr>\n",
       "      <th>4</th>\n",
       "      <td>9860</td>\n",
       "      <td>20</td>\n",
       "      <td>?</td>\n",
       "      <td>144685</td>\n",
       "      <td>Pendidikan Tinggi</td>\n",
       "      <td>10</td>\n",
       "      <td>Belum Pernah Menikah</td>\n",
       "      <td>?</td>\n",
       "      <td>Perempuan</td>\n",
       "      <td>0.0</td>\n",
       "      <td>22428000.0</td>\n",
       "      <td>40.0</td>\n",
       "    </tr>\n",
       "  </tbody>\n",
       "</table>\n",
       "</div>"
      ],
      "text/plain": [
       "      id  Umur  ... Kerugian Capital  Jam per Minggu\n",
       "0  47933    30  ...              0.0            40.0\n",
       "1  44213    28  ...              0.0            50.0\n",
       "2  20823    34  ...              0.0            40.0\n",
       "3  40565    51  ...       28028000.0            40.0\n",
       "4   9860    20  ...       22428000.0            40.0\n",
       "\n",
       "[5 rows x 12 columns]"
      ]
     },
     "execution_count": 51,
     "metadata": {
      "tags": []
     },
     "output_type": "execute_result"
    }
   ],
   "source": [
    "dftest = pd.read_csv('Pendapatan_test.csv')\n",
    "dftest.head()"
   ]
  },
  {
   "cell_type": "code",
   "execution_count": null,
   "metadata": {
    "colab": {
     "base_uri": "https://localhost:8080/",
     "height": 301
    },
    "colab_type": "code",
    "id": "eQF2m_z3fLKW",
    "outputId": "b44d65a0-3436-44e3-949f-cfef8a7fe1e5"
   },
   "outputs": [
    {
     "data": {
      "text/plain": [
       "SMA                     3090\n",
       "Pendidikan Tinggi       2176\n",
       "Sarjana                 1564\n",
       "Master                   509\n",
       "D4                       417\n",
       "11th                     379\n",
       "D3                       312\n",
       "10th                     271\n",
       "7th-8th                  214\n",
       "Sekolah Professional     152\n",
       "9th                      138\n",
       "12th                     125\n",
       "Doktor                   104\n",
       "5th-6th                   86\n",
       "1st-4th                   47\n",
       "SD                        15\n",
       "Name: Pendidikan, dtype: int64"
      ]
     },
     "execution_count": 52,
     "metadata": {
      "tags": []
     },
     "output_type": "execute_result"
    }
   ],
   "source": [
    "dftest['Pendidikan'].value_counts()"
   ]
  },
  {
   "cell_type": "code",
   "execution_count": null,
   "metadata": {
    "colab": {},
    "colab_type": "code",
    "id": "zACJIDQ9erRn"
   },
   "outputs": [],
   "source": [
    "dftest['Pendidikan'] = dftest['Pendidikan'].replace(\n",
    "    ['SMA','Pendidikan Tinggi', 'Sarjana','Master','D4','11th','D3','10th','7th-8th','Sekolah Professional','9th','12th','Doktor','5th-6th','1st-4th','SD'],\n",
    "    [1,2,3,4,5,6,7,8,9,10,11,12,13,14,15,16]\n",
    ")"
   ]
  },
  {
   "cell_type": "code",
   "execution_count": null,
   "metadata": {
    "colab": {},
    "colab_type": "code",
    "id": "1uhioX6bfYgA"
   },
   "outputs": [],
   "source": [
    "dftest['Kelas Pekerja'] = dftest['Kelas Pekerja'].replace(['Wiraswasta','Pekerja Bebas Bukan Perusahan','Pemerintah Lokal','?','Pemerintah Negara','Pekerja Bebas Perusahaan','Pemerintah Provinsi',\n",
    "                             'Tanpa di Bayar','Tidak Pernah Bekerja'],[1,2,3,4,5,6,7,8,9])"
   ]
  },
  {
   "cell_type": "code",
   "execution_count": null,
   "metadata": {
    "colab": {},
    "colab_type": "code",
    "id": "q3jGjz87hkW3"
   },
   "outputs": [],
   "source": [
    "dftest['Pekerjaan'] = dftest['Pekerjaan'].replace(\n",
    "    ['Spesialis','Ekesekutif Managerial','Perbaikan Kerajinan','Pemuka Agama','Sales','Servis Lainnya','Mesin Inspeksi','?','Supir','Pembersih','Petani','Tech-support','Penjaga','Asisten Rumah Tangga','Tentara'],\n",
    "    [1,2,3,4,5,6,7,8,9,10,11,12,13,14,15]\n",
    ")"
   ]
  },
  {
   "cell_type": "code",
   "execution_count": null,
   "metadata": {
    "colab": {},
    "colab_type": "code",
    "id": "K548HhJe9HK6"
   },
   "outputs": [],
   "source": [
    "dftest['Status Perkawinan'] = dftest['Status Perkawinan'].replace(\n",
    "    ['Menikah','Belum Pernah Menikah','Cerai','Berpisah','Janda','Menikah LDR'],\n",
    "    [1,2,3,4,5,6])"
   ]
  },
  {
   "cell_type": "code",
   "execution_count": null,
   "metadata": {
    "colab": {},
    "colab_type": "code",
    "id": "xszULnay9OHO"
   },
   "outputs": [],
   "source": [
    "dftest['Jenis Kelamin']=dftest['Jenis Kelamin'].replace(['Laki2','Perempuan'],[1,0])\n"
   ]
  },
  {
   "cell_type": "code",
   "execution_count": null,
   "metadata": {
    "colab": {
     "base_uri": "https://localhost:8080/",
     "height": 134
    },
    "colab_type": "code",
    "id": "Nml_M3y9XlSu",
    "outputId": "fbf14d12-a3b4-4641-f850-62d4828648ef"
   },
   "outputs": [
    {
     "data": {
      "text/plain": [
       "array([[9.6475661e-01, 3.5243358e-02],\n",
       "       [8.3800584e-01, 1.6199408e-01],\n",
       "       [7.1355999e-01, 2.8644007e-01],\n",
       "       ...,\n",
       "       [9.9934858e-01, 6.5143273e-04],\n",
       "       [9.8937106e-01, 1.0628963e-02],\n",
       "       [8.1520343e-01, 1.8479657e-01]], dtype=float32)"
      ]
     },
     "execution_count": 58,
     "metadata": {
      "tags": []
     },
     "output_type": "execute_result"
    }
   ],
   "source": [
    "predictor = ['Umur','Kelas Pekerja','Pendidikan','Pekerjaan','Jmlh Tahun Pendidikan',\n",
    "                'Status Perkawinan','Jenis Kelamin','Keuntungan Kapital', 'Kerugian Capital','Jam per Minggu']\n",
    "hasilprediksi = model.predict(dftest[predictor])\n",
    "hasilprediksi"
   ]
  },
  {
   "cell_type": "code",
   "execution_count": null,
   "metadata": {
    "colab": {},
    "colab_type": "code",
    "id": "DW2HEojErxas"
   },
   "outputs": [],
   "source": [
    "def uji(xd):\n",
    "  a_max = xd.max()\n",
    "  mylist = xd\n",
    "  for i in range(len(mylist)):\n",
    "    if mylist[i] == a_max:\n",
    "      break\n",
    "  return i"
   ]
  },
  {
   "cell_type": "code",
   "execution_count": null,
   "metadata": {
    "colab": {
     "base_uri": "https://localhost:8080/",
     "height": 33
    },
    "colab_type": "code",
    "id": "Rkr9jttqs9gY",
    "outputId": "b5033407-b8d0-4e64-e742-3dca8f3db387"
   },
   "outputs": [
    {
     "data": {
      "text/plain": [
       "1"
      ]
     },
     "execution_count": 60,
     "metadata": {
      "tags": []
     },
     "output_type": "execute_result"
    }
   ],
   "source": [
    "az = hasilprediksi[3]\n",
    "az\n",
    "uji(az)"
   ]
  },
  {
   "cell_type": "code",
   "execution_count": null,
   "metadata": {
    "colab": {},
    "colab_type": "code",
    "id": "yyzZEs7TsI4a"
   },
   "outputs": [],
   "source": [
    "ha=[]\n",
    "for x in range(len(hasilprediksi)):\n",
    "  ha.append(uji(hasilprediksi[x]))"
   ]
  },
  {
   "cell_type": "code",
   "execution_count": null,
   "metadata": {
    "colab": {},
    "colab_type": "code",
    "id": "uPyKlr1FXtH4"
   },
   "outputs": [],
   "source": [
    "submit =pd.DataFrame({\n",
    "    'Id':dftest['id'],\n",
    "    'Gaji':ha\n",
    "})\n",
    "submit.to_csv('hasil8.csv', index=False)"
   ]
  },
  {
   "cell_type": "code",
   "execution_count": null,
   "metadata": {
    "colab": {},
    "colab_type": "code",
    "id": "_S9AwhioYCd9"
   },
   "outputs": [],
   "source": []
  }
 ],
 "metadata": {
  "accelerator": "GPU",
  "colab": {
   "authorship_tag": "ABX9TyOYtGIfJuHmldrezfFaOqXr",
   "include_colab_link": true,
   "name": "Tugas Akhir Bootcamp.ipynb",
   "provenance": []
  },
  "kernelspec": {
   "display_name": "Python 3",
   "language": "python",
   "name": "python3"
  },
  "language_info": {
   "codemirror_mode": {
    "name": "ipython",
    "version": 3
   },
   "file_extension": ".py",
   "mimetype": "text/x-python",
   "name": "python",
   "nbconvert_exporter": "python",
   "pygments_lexer": "ipython3",
   "version": "3.7.4"
  }
 },
 "nbformat": 4,
 "nbformat_minor": 1
}
